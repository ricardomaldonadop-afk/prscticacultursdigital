{
  "cells": [
    {
      "cell_type": "markdown",
      "source": [
        "# **Variables y tipos de datos 📦**"
      ],
      "metadata": {
        "id": "jNbwE_UUdaJn"
      },
      "id": "jNbwE_UUdaJn"
    },
    {
      "cell_type": "markdown",
      "source": [
        "### **¿Qué es una variable?**\n",
        "\n",
        "Una variable es un espacio en memoria que usamos para almacenar información; de forma abstracta puedes verla como una “caja” con nombre la cual contiene al dato. Los tipos más conocidos son:\n",
        "\n",
        "<p style=\"text-align:center;\">\n",
        "\n",
        "| Tipo    | Ejemplo          | Descripción                           |\n",
        "| ------- | ---------------- | ------------------------------------- |\n",
        "| `int`   | `10`             | Números enteros                       |\n",
        "| `float` | `3.14`           | Números decimales                     |\n",
        "| `str`   | `\"Hola\"`         | Cadenas de texto                      |\n",
        "</p>\n",
        "\n",
        "En Python no es necesario declarar el tipo de una variable, el intérprete lo deduce automáticamente a partir del valor que le asignas."
      ],
      "metadata": {
        "id": "VvafaGl2r5G0"
      },
      "id": "VvafaGl2r5G0"
    },
    {
      "cell_type": "code",
      "execution_count": null,
      "metadata": {
        "id": "mxDm6xA_ckqr"
      },
      "outputs": [],
      "source": [
        "entero = 10\n",
        "print(type(entero))\n",
        "flotante = 3.14\n",
        "print(type(flotante))\n",
        "palabra = \"Hola\"\n",
        "print(type(palabra))"
      ],
      "id": "mxDm6xA_ckqr"
    },
    {
      "cell_type": "markdown",
      "id": "04677e67",
      "metadata": {
        "id": "04677e67"
      },
      "source": [
        "# 🐍 Ejercicios de Input y Conversión de Datos en Python\n",
        "\n",
        "Responde directamente en las celdas de código. Cada ejercicio indica lo que debes hacer."
      ]
    },
    {
      "cell_type": "markdown",
      "id": "5261b6c9",
      "metadata": {
        "id": "5261b6c9"
      },
      "source": [
        "### Ejercicio 1: Suma de dos números\n",
        "Pide al usuario dos números y muestra la suma de ambos."
      ]
    },
    {
      "cell_type": "code",
      "execution_count": null,
      "id": "b747aa21",
      "metadata": {
        "id": "b747aa21"
      },
      "outputs": [],
      "source": [
        "# Escribe tu código aquí\n",
        "var1=int(input(\"dame un numero\")\n",
        "var2=int(input(\"dame otro numero\")\n",
        "print(var+var2)"
      ]
    },
    {
      "cell_type": "markdown",
      "id": "259eb526",
      "metadata": {
        "id": "259eb526"
      },
      "source": [
        "### Ejercicio 2: Edad el próximo año\n",
        "Pide al usuario su edad y muestra cuántos años tendrá el próximo año."
      ]
    },
    {
      "cell_type": "code",
      "execution_count": 1,
      "id": "be875d20",
      "metadata": {
        "id": "be875d20",
        "colab": {
          "base_uri": "https://localhost:8080/",
          "height": 106
        },
        "outputId": "d4af9ce7-d5ac-41bb-c8cd-de27505e9cc9"
      },
      "outputs": [
        {
          "output_type": "error",
          "ename": "SyntaxError",
          "evalue": "incomplete input (ipython-input-149603626.py, line 2)",
          "traceback": [
            "\u001b[0;36m  File \u001b[0;32m\"/tmp/ipython-input-149603626.py\"\u001b[0;36m, line \u001b[0;32m2\u001b[0m\n\u001b[0;31m    edad=(input(\"¿cuantos años tienes?\")\u001b[0m\n\u001b[0m                                        ^\u001b[0m\n\u001b[0;31mSyntaxError\u001b[0m\u001b[0;31m:\u001b[0m incomplete input\n"
          ]
        }
      ],
      "source": [
        "# Escribe tu código aquí\n",
        "edad=(input(\"¿cuantos años tienes?\")\n",
        "edad_sigiente=edad+1\n",
        "print(\"el proximo año tendras\",edad_sigiente,\"años\")"
      ]
    },
    {
      "cell_type": "markdown",
      "id": "500d1025",
      "metadata": {
        "id": "500d1025"
      },
      "source": [
        "### Ejercicio 3: Nombre completo\n",
        "Pide al usuario su nombre y apellido, y muestra el nombre completo."
      ]
    },
    {
      "cell_type": "code",
      "execution_count": null,
      "id": "09d23768",
      "metadata": {
        "id": "09d23768"
      },
      "outputs": [],
      "source": [
        "# Escribe tu código aquí\n",
        "nombre=input(\"escribe tu nombre\")\n",
        "apellido=input(\"escribe tu apellido\")\n",
        "print(\"tunombre completo es\",nombre+apellido)"
      ]
    },
    {
      "cell_type": "markdown",
      "id": "264da48a",
      "metadata": {
        "id": "264da48a"
      },
      "source": [
        "### Ejercicio 4: Calcular precio total\n",
        "Pide al usuario el precio de un producto y la cantidad que va a comprar, luego muestra el total a pagar."
      ]
    },
    {
      "cell_type": "code",
      "execution_count": null,
      "id": "4bb9c723",
      "metadata": {
        "id": "4bb9c723"
      },
      "outputs": [],
      "source": [
        "# Escribe tu código aquí\n"
      ]
    },
    {
      "cell_type": "markdown",
      "id": "5bb95243",
      "metadata": {
        "id": "5bb95243"
      },
      "source": [
        "### Ejercicio 5: Convertir minutos a segundos\n",
        "Pide al usuario una cantidad de minutos y muestra cuántos segundos equivalen."
      ]
    },
    {
      "cell_type": "code",
      "execution_count": null,
      "id": "8be4e619",
      "metadata": {
        "id": "8be4e619"
      },
      "outputs": [],
      "source": [
        "# Escribe tu código aquí\n"
      ]
    }
  ],
  "metadata": {
    "colab": {
      "provenance": []
    },
    "language_info": {
      "name": "python"
    },
    "kernelspec": {
      "name": "python3",
      "display_name": "Python 3"
    }
  },
  "nbformat": 4,
  "nbformat_minor": 5
}